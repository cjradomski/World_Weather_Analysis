{
 "cells": [
  {
   "cell_type": "code",
   "execution_count": 1,
   "metadata": {},
   "outputs": [],
   "source": [
    "# import the random module\n",
    "import random"
   ]
  },
  {
   "cell_type": "code",
   "execution_count": 2,
   "metadata": {},
   "outputs": [
    {
     "data": {
      "text/plain": [
       "42"
      ]
     },
     "execution_count": 2,
     "metadata": {},
     "output_type": "execute_result"
    }
   ],
   "source": [
    "random.randint(-90,90)"
   ]
  },
  {
   "cell_type": "code",
   "execution_count": 3,
   "metadata": {},
   "outputs": [
    {
     "data": {
      "text/plain": [
       "0.13509479773314437"
      ]
     },
     "execution_count": 3,
     "metadata": {},
     "output_type": "execute_result"
    }
   ],
   "source": [
    "random.random()"
   ]
  },
  {
   "cell_type": "code",
   "execution_count": 4,
   "metadata": {},
   "outputs": [
    {
     "data": {
      "text/plain": [
       "6.115594553944212"
      ]
     },
     "execution_count": 4,
     "metadata": {},
     "output_type": "execute_result"
    }
   ],
   "source": [
    "random_number = random.randint(-90,90) + random.random()\n",
    "random_number"
   ]
  },
  {
   "cell_type": "code",
   "execution_count": 5,
   "metadata": {},
   "outputs": [
    {
     "data": {
      "text/plain": [
       "[26.11743060341593,\n",
       " 80.70989764780518,\n",
       " 35.919126509094895,\n",
       " 87.04288383458054,\n",
       " 75.4523616894807,\n",
       " 56.94260878043121,\n",
       " -54.18651745364771,\n",
       " 69.9553288825596,\n",
       " 29.638291607928558,\n",
       " 49.15583627634293]"
      ]
     },
     "execution_count": 5,
     "metadata": {},
     "output_type": "execute_result"
    }
   ],
   "source": [
    "x = 1\n",
    "latitudes = []\n",
    "while x < 11:\n",
    "    random_lat = random.randint(-90,90) + random.random()\n",
    "    latitudes.append(random_lat)\n",
    "    x += 1\n",
    "latitudes"
   ]
  },
  {
   "cell_type": "code",
   "execution_count": 6,
   "metadata": {},
   "outputs": [
    {
     "data": {
      "text/plain": [
       "-54"
      ]
     },
     "execution_count": 6,
     "metadata": {},
     "output_type": "execute_result"
    }
   ],
   "source": [
    "random.randrange(-90,90,step=1)"
   ]
  },
  {
   "cell_type": "code",
   "execution_count": 7,
   "metadata": {},
   "outputs": [
    {
     "data": {
      "text/plain": [
       "-18"
      ]
     },
     "execution_count": 7,
     "metadata": {},
     "output_type": "execute_result"
    }
   ],
   "source": [
    "random.randrange(-90,90,step=3)"
   ]
  },
  {
   "cell_type": "code",
   "execution_count": 8,
   "metadata": {},
   "outputs": [
    {
     "data": {
      "text/plain": [
       "41.65082935361545"
      ]
     },
     "execution_count": 8,
     "metadata": {},
     "output_type": "execute_result"
    }
   ],
   "source": [
    "random.uniform(-90,90)"
   ]
  },
  {
   "cell_type": "code",
   "execution_count": 9,
   "metadata": {},
   "outputs": [],
   "source": [
    "# Import the NumPy module\n",
    "import numpy as np"
   ]
  },
  {
   "cell_type": "code",
   "execution_count": 10,
   "metadata": {},
   "outputs": [
    {
     "data": {
      "text/plain": [
       "39.87091010802476"
      ]
     },
     "execution_count": 10,
     "metadata": {},
     "output_type": "execute_result"
    }
   ],
   "source": [
    "np.random.uniform(-90.000,90.000)"
   ]
  },
  {
   "cell_type": "code",
   "execution_count": 11,
   "metadata": {},
   "outputs": [
    {
     "data": {
      "text/plain": [
       "array([ 3.57800408e+01, -7.60501629e+01, -1.36123205e+01, -7.57616651e+01,\n",
       "        5.90985771e+01,  6.20566332e+01,  3.33508527e+01,  7.47497703e+01,\n",
       "        5.23715700e+01, -3.52228471e+01, -3.40592812e+01,  4.48461921e-02,\n",
       "        3.61228451e+01, -2.26943233e+00,  4.75237140e+00, -3.80516617e+01,\n",
       "        3.37328720e+01,  8.72712305e+01, -7.42010496e+01, -1.16414294e+01,\n",
       "       -3.22692620e+01, -6.71099597e+01,  4.77103328e+01, -1.00022225e+00,\n",
       "        8.22921165e+01, -6.30270422e+01,  7.98892669e+01,  5.29180211e+01,\n",
       "        6.53879950e+01,  4.92250626e+01,  2.71663733e+01, -2.41701045e+01,\n",
       "       -9.77818516e+00,  5.04546654e+01,  4.33747403e+01, -8.39366911e+01,\n",
       "       -1.13239755e+01,  8.73409636e+01,  7.70139388e+01, -4.34187280e+01,\n",
       "       -7.46146943e+01, -3.64769623e+01, -2.20092119e+01, -1.99897736e+01,\n",
       "       -2.29076016e+01, -3.35843963e+01,  3.07336082e+00, -1.39691862e+01,\n",
       "        2.21936596e+01, -2.83659024e+01])"
      ]
     },
     "execution_count": 11,
     "metadata": {},
     "output_type": "execute_result"
    }
   ],
   "source": [
    "np.random.uniform(-90.000, 90.000, size=50)"
   ]
  },
  {
   "cell_type": "code",
   "execution_count": 12,
   "metadata": {},
   "outputs": [],
   "source": [
    "# Import timeit\n",
    "import timeit"
   ]
  },
  {
   "cell_type": "code",
   "execution_count": 13,
   "metadata": {},
   "outputs": [
    {
     "name": "stdout",
     "output_type": "stream",
     "text": [
      "11.6 µs ± 164 ns per loop (mean ± std. dev. of 7 runs, 100000 loops each)\n"
     ]
    }
   ],
   "source": [
    "%timeit np.random.uniform(-90.000, 90.000, size=1500)"
   ]
  },
  {
   "cell_type": "code",
   "execution_count": 53,
   "metadata": {},
   "outputs": [
    {
     "name": "stdout",
     "output_type": "stream",
     "text": [
      "1.48 ms ± 5.55 µs per loop (mean ± std. dev. of 7 runs, 1000 loops each)\n"
     ]
    }
   ],
   "source": [
    "# Genrating latitudes with while loop\n",
    "def latitudes_while(size):\n",
    "    latitudes_while = []\n",
    "    x = 0\n",
    "    while x < (size):\n",
    "        random_lat = random.randint(-90,90) + random.random()\n",
    "        latitudes_while.append(random_lat)\n",
    "        x += 1\n",
    "    return latitudes_while\n",
    "\n",
    "# Call the function with 1500\n",
    "%timeit latitudes_while(1500)"
   ]
  },
  {
   "cell_type": "code",
   "execution_count": 56,
   "metadata": {},
   "outputs": [
    {
     "name": "stdout",
     "output_type": "stream",
     "text": [
      "1.43 ms ± 36.4 µs per loop (mean ± std. dev. of 7 runs, 1000 loops each)\n"
     ]
    }
   ],
   "source": [
    "# Generating latitudes with for loop\n",
    "def latitudes_for(size):\n",
    "    latitudes_for = []\n",
    "\n",
    "    for i in range(0,size):\n",
    "        random_lat = random.randint(-90,90) + random.random()\n",
    "        latitudes_for.append(random_lat)\n",
    "    return latitudes_for\n",
    "\n",
    "# Call the function with 1500\n",
    "%timeit latitudes_for(1500)"
   ]
  },
  {
   "cell_type": "code",
   "execution_count": 57,
   "metadata": {},
   "outputs": [],
   "source": [
    "# Import linear regression from the SciPy stats module\n",
    "from scipy.stats import linregress"
   ]
  },
  {
   "cell_type": "code",
   "execution_count": 58,
   "metadata": {},
   "outputs": [],
   "source": [
    "# Create an equal number of latitudes and temperatures.\n",
    "lats = [42.5, 43.9, 8.1, 36.8, 79.9, 69.1, 25.7, 15.3, 12.7, 64.5]\n",
    "temps = [80.5, 75.3, 90.9, 90.0, 40.4, 62.3, 85.4, 79.6, 72.5, 72.0]"
   ]
  },
  {
   "cell_type": "code",
   "execution_count": 60,
   "metadata": {},
   "outputs": [
    {
     "name": "stdout",
     "output_type": "stream",
     "text": [
      "y= -0.45x 92.94\n",
      "The p-value is: 0.011\n"
     ]
    }
   ],
   "source": [
    "# Perform liner regression\n",
    "(slope, intercept, r_value, p_value, std_err) = linregress(lats, temps)\n",
    "\n",
    "# Get the equation of the line\n",
    "line_eq = \"y= \" + str(round(slope,2)) + \"x \" + str(round(intercept,2))\n",
    "print(line_eq)\n",
    "print(f\"The p-value is: {p_value:.3f}\")"
   ]
  },
  {
   "cell_type": "code",
   "execution_count": 61,
   "metadata": {},
   "outputs": [],
   "source": [
    "# Calculate the regression line \"y values\" from the slope and intercept\n",
    "regress_values = [(lat * slope + intercept) for lat in lats]"
   ]
  },
  {
   "cell_type": "code",
   "execution_count": 62,
   "metadata": {},
   "outputs": [
    {
     "data": {
      "image/png": "[encoded data removed]",
      "text/plain": [
       "<Figure size 432x288 with 1 Axes>"
      ]
     },
     "metadata": {
      "needs_background": "light"
     },
     "output_type": "display_data"
    }
   ],
   "source": [
    "# Import Matplotlib\n",
    "import matplotlib.pyplot as plt\n",
    "# Create a scatter plot of the x and y values\n",
    "plt.scatter(lats,temps)\n",
    "# Plot the regression line with the x-values and the y coordinates based on the intercept and slope\n",
    "plt.plot(lats,regress_values,\"r\")\n",
    "# Annotate the text for the line equation and add its coordinates\n",
    "plt.annotate(line_eq, (10,40), fontsize=15, color=\"red\")\n",
    "plt.xlabel('Latitude')\n",
    "plt.ylabel('Temp')\n",
    "plt.show()"
   ]
  },
  {
   "cell_type": "code",
   "execution_count": null,
   "metadata": {},
   "outputs": [],
   "source": []
  }
 ],
 "metadata": {
  "kernelspec": {
   "display_name": "PythonData",
   "language": "python",
   "name": "pythondata"
  },
  "language_info": {
   "codemirror_mode": {
    "name": "ipython",
    "version": 3
   },
   "file_extension": ".py",
   "mimetype": "text/x-python",
   "name": "python",
   "nbconvert_exporter": "python",
   "pygments_lexer": "ipython3",
   "version": "3.7.6"
  }
 },
 "nbformat": 4,
 "nbformat_minor": 4
}
